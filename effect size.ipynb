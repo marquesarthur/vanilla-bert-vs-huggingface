{
 "cells": [
  {
   "cell_type": "code",
   "execution_count": 1,
   "id": "81e1fc7b",
   "metadata": {},
   "outputs": [],
   "source": [
    "%load_ext autoreload\n",
    "%autoreload 2"
   ]
  },
  {
   "cell_type": "code",
   "execution_count": 2,
   "id": "7429c470",
   "metadata": {},
   "outputs": [],
   "source": [
    "import logging\n",
    "import sys\n",
    "import warnings\n",
    "import scipy\n",
    "import scipy.stats\n",
    "import pandas as pd\n",
    "from analysis import ReportAnalysis\n",
    "\n",
    "warnings.filterwarnings('ignore')\n",
    "\n",
    "logger = logging.getLogger()\n",
    "logger.level = logging.DEBUG\n",
    "stream_handler = logging.StreamHandler(sys.stdout)\n",
    "logger.addHandler(stream_handler)\n",
    "\n",
    "# https://www.kite.com/python/answers/how-to-display-float-values-in-a-pandas-dataframe-to-two-decimal-places-in-python\n",
    "pd.options.display.float_format = \"{:,.2f}\".format"
   ]
  },
  {
   "cell_type": "code",
   "execution_count": 3,
   "id": "2234d5e7",
   "metadata": {},
   "outputs": [],
   "source": [
    "# DS android\n",
    "_analysis = ReportAnalysis()"
   ]
  },
  {
   "cell_type": "markdown",
   "id": "a5c5df29",
   "metadata": {},
   "source": [
    "# BERT_ds-android"
   ]
  },
  {
   "cell_type": "code",
   "execution_count": 4,
   "id": "d4fef9da",
   "metadata": {},
   "outputs": [],
   "source": [
    "_, bert_recall_base, _ = _analysis.get_fold_metrics_to_list('output/bert_ds_android_base.json', type = 'overall')\n",
    "_, bert_recall_fe, _ = _analysis.get_fold_metrics_to_list('output/bert_ds_android_fe.json', type = 'overall')\n",
    "_, bert_recall_fa, _ = _analysis.get_fold_metrics_to_list('output/bert_ds_android_fa.json', type = 'overall')"
   ]
  },
  {
   "cell_type": "code",
   "execution_count": 5,
   "id": "5830c542",
   "metadata": {},
   "outputs": [
    {
     "data": {
      "text/plain": [
       "MannwhitneyuResult(statistic=48.0, pvalue=0.9097218891455553)"
      ]
     },
     "execution_count": 5,
     "metadata": {},
     "output_type": "execute_result"
    }
   ],
   "source": [
    "scipy.stats.mannwhitneyu(bert_recall_base, bert_recall_fe, alternative='two-sided')"
   ]
  },
  {
   "cell_type": "code",
   "execution_count": 6,
   "id": "b3da82b5",
   "metadata": {},
   "outputs": [
    {
     "data": {
      "text/plain": [
       "MannwhitneyuResult(statistic=42.0, pvalue=0.5707503880581739)"
      ]
     },
     "execution_count": 6,
     "metadata": {},
     "output_type": "execute_result"
    }
   ],
   "source": [
    "scipy.stats.mannwhitneyu(bert_recall_base, bert_recall_fa, alternative='two-sided')"
   ]
  },
  {
   "cell_type": "markdown",
   "id": "1192f437",
   "metadata": {},
   "source": [
    "# BERT_ds-synthetic"
   ]
  },
  {
   "cell_type": "code",
   "execution_count": 7,
   "id": "e94eb413",
   "metadata": {},
   "outputs": [],
   "source": [
    "_, syn_bert_recall_base, _ = _analysis.get_fold_metrics_to_list('output/bert_ds_synthetic_base.json', type = 'overall')\n",
    "_, syn_bert_recall_fe, _ = _analysis.get_fold_metrics_to_list('output/bert_ds_synthetic_fe.json', type = 'overall')\n",
    "_, syn_bert_recall_fa, _ = _analysis.get_fold_metrics_to_list('output/bert_ds_synthetic_fa.json', type = 'overall')"
   ]
  },
  {
   "cell_type": "code",
   "execution_count": 8,
   "id": "10f959d3",
   "metadata": {},
   "outputs": [
    {
     "data": {
      "text/plain": [
       "MannwhitneyuResult(statistic=51.0, pvalue=0.9698499769931556)"
      ]
     },
     "execution_count": 8,
     "metadata": {},
     "output_type": "execute_result"
    }
   ],
   "source": [
    "scipy.stats.mannwhitneyu(syn_bert_recall_base, syn_bert_recall_fe, alternative='two-sided')"
   ]
  },
  {
   "cell_type": "code",
   "execution_count": 9,
   "id": "d38ff17c",
   "metadata": {},
   "outputs": [
    {
     "data": {
      "text/plain": [
       "MannwhitneyuResult(statistic=51.0, pvalue=0.9698499769931556)"
      ]
     },
     "execution_count": 9,
     "metadata": {},
     "output_type": "execute_result"
    }
   ],
   "source": [
    "scipy.stats.mannwhitneyu(syn_bert_recall_base, syn_bert_recall_fa, alternative='two-sided')"
   ]
  },
  {
   "cell_type": "markdown",
   "id": "a896d77f",
   "metadata": {},
   "source": [
    "# word2vec"
   ]
  },
  {
   "cell_type": "code",
   "execution_count": 10,
   "id": "f92a1b6c",
   "metadata": {},
   "outputs": [],
   "source": [
    "_, w2v_recall_base, _ = _analysis.get_ir_metrics_to_list('output/w2v_base.json', type = 'overall')\n",
    "_, w2v_recall_fe, _ = _analysis.get_ir_metrics_to_list('output/w2v_fe.json', type = 'overall')\n",
    "_, w2v_recall_fa, _ = _analysis.get_ir_metrics_to_list('output/w2v_fa.json', type = 'overall')"
   ]
  },
  {
   "cell_type": "code",
   "execution_count": 11,
   "id": "504056d7",
   "metadata": {},
   "outputs": [
    {
     "data": {
      "text/plain": [
       "MannwhitneyuResult(statistic=37.0, pvalue=0.3447042220069576)"
      ]
     },
     "execution_count": 11,
     "metadata": {},
     "output_type": "execute_result"
    }
   ],
   "source": [
    "scipy.stats.mannwhitneyu(w2v_recall_base, w2v_recall_fe, alternative='two-sided')"
   ]
  },
  {
   "cell_type": "code",
   "execution_count": 12,
   "id": "1185333d",
   "metadata": {},
   "outputs": [
    {
     "data": {
      "text/plain": [
       "MannwhitneyuResult(statistic=22.0, pvalue=0.03763531378731424)"
      ]
     },
     "execution_count": 12,
     "metadata": {},
     "output_type": "execute_result"
    }
   ],
   "source": [
    "scipy.stats.mannwhitneyu(w2v_recall_base, w2v_recall_fa, alternative='two-sided')"
   ]
  },
  {
   "cell_type": "markdown",
   "id": "40a62f31",
   "metadata": {},
   "source": [
    "# Comparison"
   ]
  },
  {
   "cell_type": "code",
   "execution_count": 27,
   "id": "a0327d7a",
   "metadata": {},
   "outputs": [
    {
     "data": {
      "text/plain": [
       "MannwhitneyuResult(statistic=100.0, pvalue=0.00018267179110955002)"
      ]
     },
     "execution_count": 27,
     "metadata": {},
     "output_type": "execute_result"
    }
   ],
   "source": [
    "scipy.stats.mannwhitneyu(bert_recall_base, w2v_recall_base, alternative='two-sided')"
   ]
  },
  {
   "cell_type": "code",
   "execution_count": 28,
   "id": "aee9a69d",
   "metadata": {},
   "outputs": [
    {
     "data": {
      "text/plain": [
       "2.3543801946227187"
      ]
     },
     "execution_count": 28,
     "metadata": {},
     "output_type": "execute_result"
    }
   ],
   "source": [
    "_analysis.cohend(bert_recall_base, w2v_recall_base)"
   ]
  },
  {
   "cell_type": "code",
   "execution_count": 23,
   "id": "3e633633",
   "metadata": {},
   "outputs": [
    {
     "data": {
      "text/plain": [
       "MannwhitneyuResult(statistic=94.0, pvalue=0.0010079762403767444)"
      ]
     },
     "execution_count": 23,
     "metadata": {},
     "output_type": "execute_result"
    }
   ],
   "source": [
    "scipy.stats.mannwhitneyu(bert_recall_fe, w2v_recall_fe, alternative='two-sided')"
   ]
  },
  {
   "cell_type": "code",
   "execution_count": 24,
   "id": "79ed6b37",
   "metadata": {},
   "outputs": [
    {
     "data": {
      "text/plain": [
       "1.8860912898328854"
      ]
     },
     "execution_count": 24,
     "metadata": {},
     "output_type": "execute_result"
    }
   ],
   "source": [
    "_analysis.cohend(bert_recall_fe, w2v_recall_fe)"
   ]
  },
  {
   "cell_type": "code",
   "execution_count": 25,
   "id": "2d075fc6",
   "metadata": {},
   "outputs": [
    {
     "data": {
      "text/plain": [
       "MannwhitneyuResult(statistic=73.0, pvalue=0.08897301170181328)"
      ]
     },
     "execution_count": 25,
     "metadata": {},
     "output_type": "execute_result"
    }
   ],
   "source": [
    "scipy.stats.mannwhitneyu(bert_recall_fa, w2v_recall_fa, alternative='two-sided')"
   ]
  },
  {
   "cell_type": "code",
   "execution_count": 41,
   "id": "afb2f9c8",
   "metadata": {},
   "outputs": [
    {
     "data": {
      "text/plain": [
       "0.874235285712092"
      ]
     },
     "execution_count": 41,
     "metadata": {},
     "output_type": "execute_result"
    }
   ],
   "source": [
    "_analysis.cohend(bert_recall_fa, w2v_recall_fa)"
   ]
  },
  {
   "cell_type": "code",
   "execution_count": null,
   "id": "4b1eefda",
   "metadata": {},
   "outputs": [],
   "source": []
  }
 ],
 "metadata": {
  "kernelspec": {
   "display_name": "Python 3.7 Arthur hugging",
   "language": "python",
   "name": "msarthur-hface"
  },
  "language_info": {
   "codemirror_mode": {
    "name": "ipython",
    "version": 3
   },
   "file_extension": ".py",
   "mimetype": "text/x-python",
   "name": "python",
   "nbconvert_exporter": "python",
   "pygments_lexer": "ipython3",
   "version": "3.7.9"
  }
 },
 "nbformat": 4,
 "nbformat_minor": 5
}
