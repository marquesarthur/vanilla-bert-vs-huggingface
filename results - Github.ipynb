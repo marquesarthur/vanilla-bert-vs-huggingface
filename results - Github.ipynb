{
 "cells": [
  {
   "cell_type": "code",
   "execution_count": 1,
   "id": "81e1fc7b",
   "metadata": {},
   "outputs": [],
   "source": [
    "%load_ext autoreload\n",
    "%autoreload 2"
   ]
  },
  {
   "cell_type": "code",
   "execution_count": 2,
   "id": "7429c470",
   "metadata": {},
   "outputs": [],
   "source": [
    "import logging\n",
    "import sys\n",
    "import warnings\n",
    "import pandas as pd\n",
    "import numpy as np\n",
    "import scipy\n",
    "import scipy.stats\n",
    "from analysis import ReportAnalysis\n",
    "\n",
    "warnings.filterwarnings('ignore')\n",
    "\n",
    "logger = logging.getLogger()\n",
    "logger.level = logging.DEBUG\n",
    "stream_handler = logging.StreamHandler(sys.stdout)\n",
    "logger.addHandler(stream_handler)\n",
    "\n",
    "# https://www.kite.com/python/answers/how-to-display-float-values-in-a-pandas-dataframe-to-two-decimal-places-in-python\n",
    "pd.options.display.float_format = \"{:,.2f}\".format"
   ]
  },
  {
   "cell_type": "markdown",
   "id": "4656f69b",
   "metadata": {},
   "source": [
    "# Github"
   ]
  },
  {
   "cell_type": "code",
   "execution_count": 3,
   "id": "2234d5e7",
   "metadata": {},
   "outputs": [],
   "source": [
    "# DS android\n"
   ]
  },
  {
   "cell_type": "code",
   "execution_count": 4,
   "id": "d4fef9da",
   "metadata": {},
   "outputs": [
    {
     "data": {
      "text/html": [
       "<div>\n",
       "<style scoped>\n",
       "    .dataframe tbody tr th:only-of-type {\n",
       "        vertical-align: middle;\n",
       "    }\n",
       "\n",
       "    .dataframe tbody tr th {\n",
       "        vertical-align: top;\n",
       "    }\n",
       "\n",
       "    .dataframe thead th {\n",
       "        text-align: right;\n",
       "    }\n",
       "</style>\n",
       "<table border=\"1\" class=\"dataframe\">\n",
       "  <thead>\n",
       "    <tr style=\"text-align: right;\">\n",
       "      <th></th>\n",
       "      <th>technique</th>\n",
       "      <th>precision</th>\n",
       "      <th>recall</th>\n",
       "      <th>f1-score</th>\n",
       "    </tr>\n",
       "  </thead>\n",
       "  <tbody>\n",
       "    <tr>\n",
       "      <th>0</th>\n",
       "      <td>hurried</td>\n",
       "      <td>0.53</td>\n",
       "      <td>0.51</td>\n",
       "      <td>0.51</td>\n",
       "    </tr>\n",
       "    <tr>\n",
       "      <th>1</th>\n",
       "      <td>w2v</td>\n",
       "      <td>0.47</td>\n",
       "      <td>0.33</td>\n",
       "      <td>0.37</td>\n",
       "    </tr>\n",
       "    <tr>\n",
       "      <th>2</th>\n",
       "      <td>w2v w/ frame-elements</td>\n",
       "      <td>0.52</td>\n",
       "      <td>0.47</td>\n",
       "      <td>0.45</td>\n",
       "    </tr>\n",
       "    <tr>\n",
       "      <th>3</th>\n",
       "      <td>w2v w/ frame-associations</td>\n",
       "      <td>0.58</td>\n",
       "      <td>0.53</td>\n",
       "      <td>0.54</td>\n",
       "    </tr>\n",
       "    <tr>\n",
       "      <th>4</th>\n",
       "      <td>bert_ds_android</td>\n",
       "      <td>0.54</td>\n",
       "      <td>0.60</td>\n",
       "      <td>0.53</td>\n",
       "    </tr>\n",
       "    <tr>\n",
       "      <th>5</th>\n",
       "      <td>bert_ds_android w/ frame-elements</td>\n",
       "      <td>0.51</td>\n",
       "      <td>0.52</td>\n",
       "      <td>0.47</td>\n",
       "    </tr>\n",
       "    <tr>\n",
       "      <th>6</th>\n",
       "      <td>bert_ds_android w/ frame-associations</td>\n",
       "      <td>0.53</td>\n",
       "      <td>0.58</td>\n",
       "      <td>0.50</td>\n",
       "    </tr>\n",
       "    <tr>\n",
       "      <th>7</th>\n",
       "      <td>bert_ds_synthetic</td>\n",
       "      <td>0.54</td>\n",
       "      <td>0.61</td>\n",
       "      <td>0.53</td>\n",
       "    </tr>\n",
       "    <tr>\n",
       "      <th>8</th>\n",
       "      <td>bert_ds_synthetic w/ frame-elements</td>\n",
       "      <td>0.52</td>\n",
       "      <td>0.57</td>\n",
       "      <td>0.49</td>\n",
       "    </tr>\n",
       "    <tr>\n",
       "      <th>9</th>\n",
       "      <td>bert_ds_synthetic w/ frame-associations</td>\n",
       "      <td>0.53</td>\n",
       "      <td>0.58</td>\n",
       "      <td>0.50</td>\n",
       "    </tr>\n",
       "  </tbody>\n",
       "</table>\n",
       "</div>"
      ],
      "text/plain": [
       "                                 technique  precision  recall  f1-score\n",
       "0                                  hurried       0.53    0.51      0.51\n",
       "1                                      w2v       0.47    0.33      0.37\n",
       "2                    w2v w/ frame-elements       0.52    0.47      0.45\n",
       "3                w2v w/ frame-associations       0.58    0.53      0.54\n",
       "4                          bert_ds_android       0.54    0.60      0.53\n",
       "5        bert_ds_android w/ frame-elements       0.51    0.52      0.47\n",
       "6    bert_ds_android w/ frame-associations       0.53    0.58      0.50\n",
       "7                        bert_ds_synthetic       0.54    0.61      0.53\n",
       "8      bert_ds_synthetic w/ frame-elements       0.52    0.57      0.49\n",
       "9  bert_ds_synthetic w/ frame-associations       0.53    0.58      0.50"
      ]
     },
     "execution_count": 4,
     "metadata": {},
     "output_type": "execute_result"
    }
   ],
   "source": [
    "_analysis = ReportAnalysis()\n",
    "\n",
    "_analysis.report_IR_metrics('output/hurried', source_type = 'git', has_filters=False)\n",
    "\n",
    "_analysis.report_IR_metrics('output/w2v', source_type = 'git', has_filters=True)\n",
    "\n",
    "_analysis.report_BERT_metrics('output/bert_ds_android', source_type = 'git')\n",
    "_analysis.report_BERT_metrics('output/bert_ds_synthetic', source_type = 'git')\n",
    "\n",
    "_analysis.pd_table()"
   ]
  },
  {
   "cell_type": "markdown",
   "id": "17da5c01",
   "metadata": {},
   "source": [
    "## Effect size comparison\n",
    "\n",
    "### with meta-data"
   ]
  },
  {
   "cell_type": "code",
   "execution_count": 12,
   "id": "b89d0c35",
   "metadata": {},
   "outputs": [
    {
     "name": "stdout",
     "output_type": "stream",
     "text": [
      "\n",
      "\n"
     ]
    }
   ],
   "source": [
    "_analysis.compare_BERT_to_answer_bot(\n",
    "    'output/hurried_base.json',\n",
    "    'output/bert_ds_android',\n",
    "    source_type = 'git', aplha = 0.10\n",
    ")"
   ]
  },
  {
   "cell_type": "code",
   "execution_count": 16,
   "id": "b5cb8066",
   "metadata": {},
   "outputs": [
    {
     "name": "stdout",
     "output_type": "stream",
     "text": [
      "\n",
      "p-value=\u001b[31m0.245 \u001b[0meffect-size=\u001b[31m-0.460 \u001b[0m for \u001b[31mbert_ds_synthetic w/ frame-elements\u001b[0m [RECALL]\n",
      "\n"
     ]
    }
   ],
   "source": [
    "_analysis.compare_BERT_to_answer_bot(\n",
    "    'output/hurried_base.json',\n",
    "    'output/bert_ds_synthetic',\n",
    "    source_type = 'git', aplha = 0.10\n",
    ")"
   ]
  },
  {
   "cell_type": "code",
   "execution_count": 17,
   "id": "00074779",
   "metadata": {},
   "outputs": [
    {
     "name": "stdout",
     "output_type": "stream",
     "text": [
      "p-value=\u001b[31m0.013 \u001b[0meffect-size=\u001b[31m1.477 \u001b[0m for \u001b[31mw2v\u001b[0m [RECALL]\n",
      "\n",
      "\n"
     ]
    }
   ],
   "source": [
    "_analysis.compare_IR_to_answer_bot(\n",
    "    'output/hurried_base.json',\n",
    "    'output/w2v',\n",
    "    source_type = 'git', aplha = 0.10\n",
    ")"
   ]
  },
  {
   "cell_type": "code",
   "execution_count": null,
   "id": "037f4f47",
   "metadata": {},
   "outputs": [],
   "source": []
  }
 ],
 "metadata": {
  "kernelspec": {
   "display_name": "Python 3.7 Arthur hugging",
   "language": "python",
   "name": "msarthur-hface"
  },
  "language_info": {
   "codemirror_mode": {
    "name": "ipython",
    "version": 3
   },
   "file_extension": ".py",
   "mimetype": "text/x-python",
   "name": "python",
   "nbconvert_exporter": "python",
   "pygments_lexer": "ipython3",
   "version": "3.7.9"
  }
 },
 "nbformat": 4,
 "nbformat_minor": 5
}
