{
 "cells": [
  {
   "cell_type": "code",
   "execution_count": 1,
   "id": "ef341770",
   "metadata": {},
   "outputs": [],
   "source": [
    "%load_ext autoreload\n",
    "%autoreload 2"
   ]
  },
  {
   "cell_type": "code",
   "execution_count": 2,
   "id": "3b7840ee",
   "metadata": {},
   "outputs": [],
   "source": [
    "import logging\n",
    "import sys\n",
    "import warnings\n",
    "import pandas as pd\n",
    "from analysis import ReportAnalysis\n",
    "\n",
    "warnings.filterwarnings('ignore')\n",
    "\n",
    "logger = logging.getLogger()\n",
    "logger.level = logging.DEBUG\n",
    "stream_handler = logging.StreamHandler(sys.stdout)\n",
    "logger.addHandler(stream_handler)\n",
    "\n",
    "pd.options.display.float_format = \"{:,.2f}\".format"
   ]
  },
  {
   "cell_type": "code",
   "execution_count": null,
   "id": "0498688f",
   "metadata": {},
   "outputs": [],
   "source": []
  },
  {
   "cell_type": "code",
   "execution_count": null,
   "id": "66f1a7f9",
   "metadata": {},
   "outputs": [],
   "source": []
  },
  {
   "cell_type": "markdown",
   "id": "f59a19d1",
   "metadata": {},
   "source": [
    "# Overall"
   ]
  },
  {
   "cell_type": "code",
   "execution_count": 3,
   "id": "0667c3a8",
   "metadata": {},
   "outputs": [],
   "source": [
    "# DS android\n",
    "overall_analysis = ReportAnalysis()"
   ]
  },
  {
   "cell_type": "code",
   "execution_count": 4,
   "id": "11244d20",
   "metadata": {},
   "outputs": [],
   "source": [
    "overall_analysis.report_BERT_metrics('output/bert_ds_android', source_type = 'overall')"
   ]
  },
  {
   "cell_type": "code",
   "execution_count": null,
   "id": "20b064e9",
   "metadata": {},
   "outputs": [],
   "source": []
  },
  {
   "cell_type": "code",
   "execution_count": 5,
   "id": "a6ea9039",
   "metadata": {},
   "outputs": [],
   "source": [
    "# DS synthetic\n",
    "overall_analysis.report_BERT_metrics('output/bert_ds_synthetic', source_type = 'overall')"
   ]
  },
  {
   "cell_type": "code",
   "execution_count": 7,
   "id": "6c427cc3",
   "metadata": {},
   "outputs": [
    {
     "data": {
      "text/html": [
       "<div>\n",
       "<style scoped>\n",
       "    .dataframe tbody tr th:only-of-type {\n",
       "        vertical-align: middle;\n",
       "    }\n",
       "\n",
       "    .dataframe tbody tr th {\n",
       "        vertical-align: top;\n",
       "    }\n",
       "\n",
       "    .dataframe thead th {\n",
       "        text-align: right;\n",
       "    }\n",
       "</style>\n",
       "<table border=\"1\" class=\"dataframe\">\n",
       "  <thead>\n",
       "    <tr style=\"text-align: right;\">\n",
       "      <th></th>\n",
       "      <th>technique</th>\n",
       "      <th>precision</th>\n",
       "      <th>recall</th>\n",
       "      <th>f1-score</th>\n",
       "    </tr>\n",
       "  </thead>\n",
       "  <tbody>\n",
       "    <tr>\n",
       "      <th>0</th>\n",
       "      <td>bert_ds_android</td>\n",
       "      <td>0.53</td>\n",
       "      <td>0.57</td>\n",
       "      <td>0.51</td>\n",
       "    </tr>\n",
       "    <tr>\n",
       "      <th>1</th>\n",
       "      <td>bert_ds_android w/ frame-elements</td>\n",
       "      <td>0.54</td>\n",
       "      <td>0.59</td>\n",
       "      <td>0.52</td>\n",
       "    </tr>\n",
       "    <tr>\n",
       "      <th>2</th>\n",
       "      <td>bert_ds_android w/ frame-associations</td>\n",
       "      <td>0.54</td>\n",
       "      <td>0.59</td>\n",
       "      <td>0.52</td>\n",
       "    </tr>\n",
       "    <tr>\n",
       "      <th>3</th>\n",
       "      <td>bert_ds_synthetic</td>\n",
       "      <td>0.54</td>\n",
       "      <td>0.57</td>\n",
       "      <td>0.52</td>\n",
       "    </tr>\n",
       "    <tr>\n",
       "      <th>4</th>\n",
       "      <td>bert_ds_synthetic w/ frame-elements</td>\n",
       "      <td>0.53</td>\n",
       "      <td>0.58</td>\n",
       "      <td>0.51</td>\n",
       "    </tr>\n",
       "    <tr>\n",
       "      <th>5</th>\n",
       "      <td>bert_ds_synthetic w/ frame-associations</td>\n",
       "      <td>0.54</td>\n",
       "      <td>0.57</td>\n",
       "      <td>0.52</td>\n",
       "    </tr>\n",
       "  </tbody>\n",
       "</table>\n",
       "</div>"
      ],
      "text/plain": [
       "                                 technique  precision  recall  f1-score\n",
       "0                          bert_ds_android       0.53    0.57      0.51\n",
       "1        bert_ds_android w/ frame-elements       0.54    0.59      0.52\n",
       "2    bert_ds_android w/ frame-associations       0.54    0.59      0.52\n",
       "3                        bert_ds_synthetic       0.54    0.57      0.52\n",
       "4      bert_ds_synthetic w/ frame-elements       0.53    0.58      0.51\n",
       "5  bert_ds_synthetic w/ frame-associations       0.54    0.57      0.52"
      ]
     },
     "execution_count": 7,
     "metadata": {},
     "output_type": "execute_result"
    }
   ],
   "source": [
    "overall_analysis.pd_table()"
   ]
  },
  {
   "cell_type": "markdown",
   "id": "59a88a64",
   "metadata": {},
   "source": [
    "# Stack Overflow"
   ]
  },
  {
   "cell_type": "code",
   "execution_count": 8,
   "id": "dc0426c4",
   "metadata": {},
   "outputs": [],
   "source": [
    "so_analysis = ReportAnalysis()"
   ]
  },
  {
   "cell_type": "code",
   "execution_count": 9,
   "id": "70e7e2f8",
   "metadata": {},
   "outputs": [],
   "source": [
    "# DS android\n",
    "so_analysis.report_BERT_metrics('output/bert_ds_android', source_type = 'so')"
   ]
  },
  {
   "cell_type": "code",
   "execution_count": 10,
   "id": "bfa20dd9",
   "metadata": {},
   "outputs": [],
   "source": [
    "# DS synthetic\n",
    "so_analysis.report_BERT_metrics('output/bert_ds_synthetic', source_type = 'so')"
   ]
  },
  {
   "cell_type": "code",
   "execution_count": 11,
   "id": "1260793f",
   "metadata": {},
   "outputs": [
    {
     "data": {
      "text/html": [
       "<div>\n",
       "<style scoped>\n",
       "    .dataframe tbody tr th:only-of-type {\n",
       "        vertical-align: middle;\n",
       "    }\n",
       "\n",
       "    .dataframe tbody tr th {\n",
       "        vertical-align: top;\n",
       "    }\n",
       "\n",
       "    .dataframe thead th {\n",
       "        text-align: right;\n",
       "    }\n",
       "</style>\n",
       "<table border=\"1\" class=\"dataframe\">\n",
       "  <thead>\n",
       "    <tr style=\"text-align: right;\">\n",
       "      <th></th>\n",
       "      <th>technique</th>\n",
       "      <th>precision</th>\n",
       "      <th>recall</th>\n",
       "      <th>f1-score</th>\n",
       "    </tr>\n",
       "  </thead>\n",
       "  <tbody>\n",
       "    <tr>\n",
       "      <th>0</th>\n",
       "      <td>bert_ds_android</td>\n",
       "      <td>0.56</td>\n",
       "      <td>0.62</td>\n",
       "      <td>0.54</td>\n",
       "    </tr>\n",
       "    <tr>\n",
       "      <th>1</th>\n",
       "      <td>bert_ds_android w/ frame-elements</td>\n",
       "      <td>0.56</td>\n",
       "      <td>0.63</td>\n",
       "      <td>0.54</td>\n",
       "    </tr>\n",
       "    <tr>\n",
       "      <th>2</th>\n",
       "      <td>bert_ds_android w/ frame-associations</td>\n",
       "      <td>0.57</td>\n",
       "      <td>0.63</td>\n",
       "      <td>0.55</td>\n",
       "    </tr>\n",
       "    <tr>\n",
       "      <th>3</th>\n",
       "      <td>bert_ds_synthetic</td>\n",
       "      <td>0.58</td>\n",
       "      <td>0.64</td>\n",
       "      <td>0.56</td>\n",
       "    </tr>\n",
       "    <tr>\n",
       "      <th>4</th>\n",
       "      <td>bert_ds_synthetic w/ frame-elements</td>\n",
       "      <td>0.56</td>\n",
       "      <td>0.63</td>\n",
       "      <td>0.53</td>\n",
       "    </tr>\n",
       "    <tr>\n",
       "      <th>5</th>\n",
       "      <td>bert_ds_synthetic w/ frame-associations</td>\n",
       "      <td>0.59</td>\n",
       "      <td>0.61</td>\n",
       "      <td>0.55</td>\n",
       "    </tr>\n",
       "  </tbody>\n",
       "</table>\n",
       "</div>"
      ],
      "text/plain": [
       "                                 technique  precision  recall  f1-score\n",
       "0                          bert_ds_android       0.56    0.62      0.54\n",
       "1        bert_ds_android w/ frame-elements       0.56    0.63      0.54\n",
       "2    bert_ds_android w/ frame-associations       0.57    0.63      0.55\n",
       "3                        bert_ds_synthetic       0.58    0.64      0.56\n",
       "4      bert_ds_synthetic w/ frame-elements       0.56    0.63      0.53\n",
       "5  bert_ds_synthetic w/ frame-associations       0.59    0.61      0.55"
      ]
     },
     "execution_count": 11,
     "metadata": {},
     "output_type": "execute_result"
    }
   ],
   "source": [
    "so_analysis.pd_table()"
   ]
  },
  {
   "cell_type": "code",
   "execution_count": null,
   "id": "e650ba5b",
   "metadata": {},
   "outputs": [],
   "source": []
  }
 ],
 "metadata": {
  "kernelspec": {
   "display_name": "Python 3.7 Arthur hugging",
   "language": "python",
   "name": "msarthur-hface"
  },
  "language_info": {
   "codemirror_mode": {
    "name": "ipython",
    "version": 3
   },
   "file_extension": ".py",
   "mimetype": "text/x-python",
   "name": "python",
   "nbconvert_exporter": "python",
   "pygments_lexer": "ipython3",
   "version": "3.7.9"
  }
 },
 "nbformat": 4,
 "nbformat_minor": 5
}
