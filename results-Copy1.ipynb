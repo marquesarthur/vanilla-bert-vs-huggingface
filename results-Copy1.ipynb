{
 "cells": [
  {
   "cell_type": "code",
   "execution_count": 1,
   "id": "81e1fc7b",
   "metadata": {},
   "outputs": [],
   "source": [
    "%load_ext autoreload\n",
    "%autoreload 2"
   ]
  },
  {
   "cell_type": "code",
   "execution_count": 2,
   "id": "7429c470",
   "metadata": {},
   "outputs": [],
   "source": [
    "import logging\n",
    "import sys\n",
    "import warnings\n",
    "import pandas as pd\n",
    "from analysis import ReportAnalysis\n",
    "\n",
    "warnings.filterwarnings('ignore')\n",
    "\n",
    "logger = logging.getLogger()\n",
    "logger.level = logging.DEBUG\n",
    "stream_handler = logging.StreamHandler(sys.stdout)\n",
    "logger.addHandler(stream_handler)\n",
    "\n",
    "# https://www.kite.com/python/answers/how-to-display-float-values-in-a-pandas-dataframe-to-two-decimal-places-in-python\n",
    "pd.options.display.float_format = \"{:,.2f}\".format"
   ]
  },
  {
   "cell_type": "markdown",
   "id": "a5c5df29",
   "metadata": {},
   "source": [
    "# Overall"
   ]
  },
  {
   "cell_type": "code",
   "execution_count": 3,
   "id": "2234d5e7",
   "metadata": {},
   "outputs": [],
   "source": [
    "# DS android\n",
    "overall_analysis = ReportAnalysis()"
   ]
  },
  {
   "cell_type": "code",
   "execution_count": 4,
   "id": "d4fef9da",
   "metadata": {},
   "outputs": [],
   "source": [
    "overall_analysis.report_BERT_metrics('output/bert_ds_android', source_type = 'overall')"
   ]
  },
  {
   "cell_type": "code",
   "execution_count": null,
   "id": "5830c542",
   "metadata": {},
   "outputs": [],
   "source": []
  },
  {
   "cell_type": "code",
   "execution_count": 5,
   "id": "55fbc741",
   "metadata": {},
   "outputs": [],
   "source": [
    "# DS synthetic\n",
    "overall_analysis.report_BERT_metrics('output/bert_ds_synthetic', source_type = 'overall')"
   ]
  },
  {
   "cell_type": "code",
   "execution_count": 6,
   "id": "b11bae0f",
   "metadata": {},
   "outputs": [
    {
     "data": {
      "text/html": [
       "<div>\n",
       "<style scoped>\n",
       "    .dataframe tbody tr th:only-of-type {\n",
       "        vertical-align: middle;\n",
       "    }\n",
       "\n",
       "    .dataframe tbody tr th {\n",
       "        vertical-align: top;\n",
       "    }\n",
       "\n",
       "    .dataframe thead th {\n",
       "        text-align: right;\n",
       "    }\n",
       "</style>\n",
       "<table border=\"1\" class=\"dataframe\">\n",
       "  <thead>\n",
       "    <tr style=\"text-align: right;\">\n",
       "      <th></th>\n",
       "      <th>technique</th>\n",
       "      <th>precision</th>\n",
       "      <th>recall</th>\n",
       "      <th>f1-score</th>\n",
       "    </tr>\n",
       "  </thead>\n",
       "  <tbody>\n",
       "    <tr>\n",
       "      <th>0</th>\n",
       "      <td>bert_ds_android</td>\n",
       "      <td>0.54</td>\n",
       "      <td>0.60</td>\n",
       "      <td>0.53</td>\n",
       "    </tr>\n",
       "    <tr>\n",
       "      <th>1</th>\n",
       "      <td>bert_ds_android w/ frame-elements</td>\n",
       "      <td>0.54</td>\n",
       "      <td>0.59</td>\n",
       "      <td>0.52</td>\n",
       "    </tr>\n",
       "    <tr>\n",
       "      <th>2</th>\n",
       "      <td>bert_ds_android w/ frame-associations</td>\n",
       "      <td>0.55</td>\n",
       "      <td>0.61</td>\n",
       "      <td>0.53</td>\n",
       "    </tr>\n",
       "    <tr>\n",
       "      <th>3</th>\n",
       "      <td>bert_ds_synthetic</td>\n",
       "      <td>0.54</td>\n",
       "      <td>0.57</td>\n",
       "      <td>0.52</td>\n",
       "    </tr>\n",
       "    <tr>\n",
       "      <th>4</th>\n",
       "      <td>bert_ds_synthetic w/ frame-elements</td>\n",
       "      <td>0.53</td>\n",
       "      <td>0.58</td>\n",
       "      <td>0.51</td>\n",
       "    </tr>\n",
       "    <tr>\n",
       "      <th>5</th>\n",
       "      <td>bert_ds_synthetic w/ frame-associations</td>\n",
       "      <td>0.54</td>\n",
       "      <td>0.57</td>\n",
       "      <td>0.52</td>\n",
       "    </tr>\n",
       "  </tbody>\n",
       "</table>\n",
       "</div>"
      ],
      "text/plain": [
       "                                 technique  precision  recall  f1-score\n",
       "0                          bert_ds_android       0.54    0.60      0.53\n",
       "1        bert_ds_android w/ frame-elements       0.54    0.59      0.52\n",
       "2    bert_ds_android w/ frame-associations       0.55    0.61      0.53\n",
       "3                        bert_ds_synthetic       0.54    0.57      0.52\n",
       "4      bert_ds_synthetic w/ frame-elements       0.53    0.58      0.51\n",
       "5  bert_ds_synthetic w/ frame-associations       0.54    0.57      0.52"
      ]
     },
     "execution_count": 6,
     "metadata": {},
     "output_type": "execute_result"
    }
   ],
   "source": [
    "overall_analysis.pd_table()"
   ]
  },
  {
   "cell_type": "markdown",
   "id": "4656f69b",
   "metadata": {},
   "source": [
    "# Stack Overflow"
   ]
  },
  {
   "cell_type": "code",
   "execution_count": 7,
   "id": "59af43b9",
   "metadata": {},
   "outputs": [],
   "source": [
    "so_analysis = ReportAnalysis()"
   ]
  },
  {
   "cell_type": "code",
   "execution_count": 8,
   "id": "6ce2b72d",
   "metadata": {},
   "outputs": [],
   "source": [
    "# DS android\n",
    "so_analysis.report_BERT_metrics('output/bert_ds_android', source_type = 'so')"
   ]
  },
  {
   "cell_type": "code",
   "execution_count": 9,
   "id": "5bf6a708",
   "metadata": {},
   "outputs": [],
   "source": [
    "# DS synthetic\n",
    "so_analysis.report_BERT_metrics('output/bert_ds_synthetic', source_type = 'so')"
   ]
  },
  {
   "cell_type": "code",
   "execution_count": 10,
   "id": "f2e33a78",
   "metadata": {},
   "outputs": [
    {
     "data": {
      "text/html": [
       "<div>\n",
       "<style scoped>\n",
       "    .dataframe tbody tr th:only-of-type {\n",
       "        vertical-align: middle;\n",
       "    }\n",
       "\n",
       "    .dataframe tbody tr th {\n",
       "        vertical-align: top;\n",
       "    }\n",
       "\n",
       "    .dataframe thead th {\n",
       "        text-align: right;\n",
       "    }\n",
       "</style>\n",
       "<table border=\"1\" class=\"dataframe\">\n",
       "  <thead>\n",
       "    <tr style=\"text-align: right;\">\n",
       "      <th></th>\n",
       "      <th>technique</th>\n",
       "      <th>precision</th>\n",
       "      <th>recall</th>\n",
       "      <th>f1-score</th>\n",
       "    </tr>\n",
       "  </thead>\n",
       "  <tbody>\n",
       "    <tr>\n",
       "      <th>0</th>\n",
       "      <td>bert_ds_android</td>\n",
       "      <td>0.58</td>\n",
       "      <td>0.64</td>\n",
       "      <td>0.57</td>\n",
       "    </tr>\n",
       "    <tr>\n",
       "      <th>1</th>\n",
       "      <td>bert_ds_android w/ frame-elements</td>\n",
       "      <td>0.57</td>\n",
       "      <td>0.64</td>\n",
       "      <td>0.55</td>\n",
       "    </tr>\n",
       "    <tr>\n",
       "      <th>2</th>\n",
       "      <td>bert_ds_android w/ frame-associations</td>\n",
       "      <td>0.58</td>\n",
       "      <td>0.65</td>\n",
       "      <td>0.56</td>\n",
       "    </tr>\n",
       "    <tr>\n",
       "      <th>3</th>\n",
       "      <td>bert_ds_synthetic</td>\n",
       "      <td>0.58</td>\n",
       "      <td>0.64</td>\n",
       "      <td>0.56</td>\n",
       "    </tr>\n",
       "    <tr>\n",
       "      <th>4</th>\n",
       "      <td>bert_ds_synthetic w/ frame-elements</td>\n",
       "      <td>0.56</td>\n",
       "      <td>0.63</td>\n",
       "      <td>0.53</td>\n",
       "    </tr>\n",
       "    <tr>\n",
       "      <th>5</th>\n",
       "      <td>bert_ds_synthetic w/ frame-associations</td>\n",
       "      <td>0.59</td>\n",
       "      <td>0.61</td>\n",
       "      <td>0.55</td>\n",
       "    </tr>\n",
       "  </tbody>\n",
       "</table>\n",
       "</div>"
      ],
      "text/plain": [
       "                                 technique  precision  recall  f1-score\n",
       "0                          bert_ds_android       0.58    0.64      0.57\n",
       "1        bert_ds_android w/ frame-elements       0.57    0.64      0.55\n",
       "2    bert_ds_android w/ frame-associations       0.58    0.65      0.56\n",
       "3                        bert_ds_synthetic       0.58    0.64      0.56\n",
       "4      bert_ds_synthetic w/ frame-elements       0.56    0.63      0.53\n",
       "5  bert_ds_synthetic w/ frame-associations       0.59    0.61      0.55"
      ]
     },
     "execution_count": 10,
     "metadata": {},
     "output_type": "execute_result"
    }
   ],
   "source": [
    "so_analysis.pd_table()"
   ]
  },
  {
   "cell_type": "code",
   "execution_count": null,
   "id": "865c9d8a",
   "metadata": {},
   "outputs": [],
   "source": []
  }
 ],
 "metadata": {
  "kernelspec": {
   "display_name": "Python 3.7 Arthur hugging",
   "language": "python",
   "name": "msarthur-hface"
  },
  "language_info": {
   "codemirror_mode": {
    "name": "ipython",
    "version": 3
   },
   "file_extension": ".py",
   "mimetype": "text/x-python",
   "name": "python",
   "nbconvert_exporter": "python",
   "pygments_lexer": "ipython3",
   "version": "3.7.9"
  }
 },
 "nbformat": 4,
 "nbformat_minor": 5
}
