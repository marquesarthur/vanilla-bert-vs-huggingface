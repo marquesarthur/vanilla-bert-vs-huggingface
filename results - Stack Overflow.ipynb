{
 "cells": [
  {
   "cell_type": "code",
   "execution_count": 1,
   "id": "81e1fc7b",
   "metadata": {},
   "outputs": [],
   "source": [
    "%load_ext autoreload\n",
    "%autoreload 2"
   ]
  },
  {
   "cell_type": "code",
   "execution_count": 2,
   "id": "7429c470",
   "metadata": {},
   "outputs": [],
   "source": [
    "import logging\n",
    "import sys\n",
    "import warnings\n",
    "import pandas as pd\n",
    "import numpy as np\n",
    "import scipy\n",
    "import scipy.stats\n",
    "from analysis import ReportAnalysis\n",
    "\n",
    "warnings.filterwarnings('ignore')\n",
    "\n",
    "logger = logging.getLogger()\n",
    "logger.level = logging.DEBUG\n",
    "stream_handler = logging.StreamHandler(sys.stdout)\n",
    "logger.addHandler(stream_handler)\n",
    "\n",
    "# https://www.kite.com/python/answers/how-to-display-float-values-in-a-pandas-dataframe-to-two-decimal-places-in-python\n",
    "pd.options.display.float_format = \"{:,.2f}\".format"
   ]
  },
  {
   "cell_type": "markdown",
   "id": "4656f69b",
   "metadata": {},
   "source": [
    "# Stack Overflow"
   ]
  },
  {
   "cell_type": "code",
   "execution_count": 3,
   "id": "2234d5e7",
   "metadata": {},
   "outputs": [],
   "source": [
    "# DS android\n"
   ]
  },
  {
   "cell_type": "code",
   "execution_count": 4,
   "id": "d4fef9da",
   "metadata": {},
   "outputs": [
    {
     "data": {
      "text/html": [
       "<div>\n",
       "<style scoped>\n",
       "    .dataframe tbody tr th:only-of-type {\n",
       "        vertical-align: middle;\n",
       "    }\n",
       "\n",
       "    .dataframe tbody tr th {\n",
       "        vertical-align: top;\n",
       "    }\n",
       "\n",
       "    .dataframe thead th {\n",
       "        text-align: right;\n",
       "    }\n",
       "</style>\n",
       "<table border=\"1\" class=\"dataframe\">\n",
       "  <thead>\n",
       "    <tr style=\"text-align: right;\">\n",
       "      <th></th>\n",
       "      <th>technique</th>\n",
       "      <th>precision</th>\n",
       "      <th>recall</th>\n",
       "      <th>f1-score</th>\n",
       "    </tr>\n",
       "  </thead>\n",
       "  <tbody>\n",
       "    <tr>\n",
       "      <th>0</th>\n",
       "      <td>answerbot</td>\n",
       "      <td>0.62</td>\n",
       "      <td>0.62</td>\n",
       "      <td>0.59</td>\n",
       "    </tr>\n",
       "    <tr>\n",
       "      <th>1</th>\n",
       "      <td>answerbot_text</td>\n",
       "      <td>0.54</td>\n",
       "      <td>0.53</td>\n",
       "      <td>0.52</td>\n",
       "    </tr>\n",
       "    <tr>\n",
       "      <th>2</th>\n",
       "      <td>w2v</td>\n",
       "      <td>0.41</td>\n",
       "      <td>0.47</td>\n",
       "      <td>0.36</td>\n",
       "    </tr>\n",
       "    <tr>\n",
       "      <th>3</th>\n",
       "      <td>w2v w/ frame-elements</td>\n",
       "      <td>0.54</td>\n",
       "      <td>0.52</td>\n",
       "      <td>0.47</td>\n",
       "    </tr>\n",
       "    <tr>\n",
       "      <th>4</th>\n",
       "      <td>w2v w/ frame-associations</td>\n",
       "      <td>0.44</td>\n",
       "      <td>0.48</td>\n",
       "      <td>0.43</td>\n",
       "    </tr>\n",
       "    <tr>\n",
       "      <th>5</th>\n",
       "      <td>bert_ds_android</td>\n",
       "      <td>0.58</td>\n",
       "      <td>0.64</td>\n",
       "      <td>0.57</td>\n",
       "    </tr>\n",
       "    <tr>\n",
       "      <th>6</th>\n",
       "      <td>bert_ds_android w/ frame-elements</td>\n",
       "      <td>0.57</td>\n",
       "      <td>0.64</td>\n",
       "      <td>0.55</td>\n",
       "    </tr>\n",
       "    <tr>\n",
       "      <th>7</th>\n",
       "      <td>bert_ds_android w/ frame-associations</td>\n",
       "      <td>0.58</td>\n",
       "      <td>0.65</td>\n",
       "      <td>0.56</td>\n",
       "    </tr>\n",
       "    <tr>\n",
       "      <th>8</th>\n",
       "      <td>bert_ds_synthetic</td>\n",
       "      <td>0.58</td>\n",
       "      <td>0.64</td>\n",
       "      <td>0.56</td>\n",
       "    </tr>\n",
       "    <tr>\n",
       "      <th>9</th>\n",
       "      <td>bert_ds_synthetic w/ frame-elements</td>\n",
       "      <td>0.56</td>\n",
       "      <td>0.63</td>\n",
       "      <td>0.53</td>\n",
       "    </tr>\n",
       "    <tr>\n",
       "      <th>10</th>\n",
       "      <td>bert_ds_synthetic w/ frame-associations</td>\n",
       "      <td>0.59</td>\n",
       "      <td>0.61</td>\n",
       "      <td>0.55</td>\n",
       "    </tr>\n",
       "  </tbody>\n",
       "</table>\n",
       "</div>"
      ],
      "text/plain": [
       "                                  technique  precision  recall  f1-score\n",
       "0                                 answerbot       0.62    0.62      0.59\n",
       "1                            answerbot_text       0.54    0.53      0.52\n",
       "2                                       w2v       0.41    0.47      0.36\n",
       "3                     w2v w/ frame-elements       0.54    0.52      0.47\n",
       "4                 w2v w/ frame-associations       0.44    0.48      0.43\n",
       "5                           bert_ds_android       0.58    0.64      0.57\n",
       "6         bert_ds_android w/ frame-elements       0.57    0.64      0.55\n",
       "7     bert_ds_android w/ frame-associations       0.58    0.65      0.56\n",
       "8                         bert_ds_synthetic       0.58    0.64      0.56\n",
       "9       bert_ds_synthetic w/ frame-elements       0.56    0.63      0.53\n",
       "10  bert_ds_synthetic w/ frame-associations       0.59    0.61      0.55"
      ]
     },
     "execution_count": 4,
     "metadata": {},
     "output_type": "execute_result"
    }
   ],
   "source": [
    "_analysis = ReportAnalysis()\n",
    "\n",
    "_analysis.report_IR_metrics('output/answerbot', source_type = 'so', has_filters=False)\n",
    "_analysis.report_IR_metrics('output/answerbot_text', source_type = 'so', has_filters=False)\n",
    "\n",
    "_analysis.report_IR_metrics('output/w2v', source_type = 'so', has_filters=True)\n",
    "\n",
    "_analysis.report_BERT_metrics('output/bert_ds_android', source_type = 'so')\n",
    "_analysis.report_BERT_metrics('output/bert_ds_synthetic', source_type = 'so')\n",
    "\n",
    "_analysis.pd_table()"
   ]
  },
  {
   "cell_type": "markdown",
   "id": "dbe9081d",
   "metadata": {},
   "source": [
    "### Effect size comparison"
   ]
  },
  {
   "cell_type": "code",
   "execution_count": 5,
   "id": "b11bae0f",
   "metadata": {},
   "outputs": [],
   "source": [
    "_, bert_recall_base, _ = _analysis.get_fold_metrics_to_list('output/bert_ds_android_base.json', type = 'so')\n",
    "_, bert_recall_fe, _ = _analysis.get_fold_metrics_to_list('output/bert_ds_android_fe.json', type = 'so')\n",
    "_, bert_recall_fa, _ = _analysis.get_fold_metrics_to_list('output/bert_ds_android_fa.json', type = 'so')\n",
    "\n",
    "_, syn_bert_recall_base, _ = _analysis.get_fold_metrics_to_list('output/bert_ds_synthetic_base.json', type = 'so')\n",
    "_, syn_bert_recall_fe, _ = _analysis.get_fold_metrics_to_list('output/bert_ds_synthetic_fe.json', type = 'so')\n",
    "_, syn_bert_recall_fa, _ = _analysis.get_fold_metrics_to_list('output/bert_ds_synthetic_fa.json', type = 'so')\n",
    "\n",
    "_, w2v_recall_base, _ = _analysis.get_ir_metrics_to_list('output/w2v_base.json', type = 'so')\n",
    "_, w2v_recall_fe, _ = _analysis.get_ir_metrics_to_list('output/w2v_fe.json', type = 'so')\n",
    "_, w2v_recall_fa, _ = _analysis.get_ir_metrics_to_list('output/w2v_fa.json', type = 'so')\n",
    "\n",
    "\n",
    "_, answerbot_recall_base, _ = _analysis.get_ir_metrics_to_list('output/answerbot_base.json', type = 'so')\n",
    "_, answerbot_recall_text, _ = _analysis.get_ir_metrics_to_list('output/answerbot_text_base.json', type = 'so')"
   ]
  },
  {
   "cell_type": "code",
   "execution_count": 6,
   "id": "df9744ac",
   "metadata": {},
   "outputs": [],
   "source": [
    "#### AnswerBot & BERT_android"
   ]
  },
  {
   "cell_type": "code",
   "execution_count": 7,
   "id": "865c9d8a",
   "metadata": {},
   "outputs": [
    {
     "data": {
      "text/plain": [
       "MannwhitneyuResult(statistic=36.0, pvalue=0.3074894566186813)"
      ]
     },
     "execution_count": 7,
     "metadata": {},
     "output_type": "execute_result"
    }
   ],
   "source": [
    "scipy.stats.mannwhitneyu(answerbot_recall_base, bert_recall_fa, alternative='two-sided')"
   ]
  },
  {
   "cell_type": "code",
   "execution_count": 8,
   "id": "1b457370",
   "metadata": {},
   "outputs": [
    {
     "data": {
      "text/plain": [
       "-0.2794033939673506"
      ]
     },
     "execution_count": 8,
     "metadata": {},
     "output_type": "execute_result"
    }
   ],
   "source": [
    "_analysis.cohend(answerbot_recall_base, bert_recall_fa)"
   ]
  },
  {
   "cell_type": "code",
   "execution_count": 9,
   "id": "25700420",
   "metadata": {},
   "outputs": [],
   "source": [
    "#### AnswerBot & BERT_synthetic"
   ]
  },
  {
   "cell_type": "code",
   "execution_count": 10,
   "id": "2ae86e7f",
   "metadata": {},
   "outputs": [
    {
     "data": {
      "text/plain": [
       "MannwhitneyuResult(statistic=40.0, pvalue=0.47267559351158717)"
      ]
     },
     "execution_count": 10,
     "metadata": {},
     "output_type": "execute_result"
    }
   ],
   "source": [
    "scipy.stats.mannwhitneyu(answerbot_recall_base, syn_bert_recall_base, alternative='two-sided')"
   ]
  },
  {
   "cell_type": "code",
   "execution_count": 11,
   "id": "f1870dd9",
   "metadata": {},
   "outputs": [
    {
     "data": {
      "text/plain": [
       "-0.20714669536114358"
      ]
     },
     "execution_count": 11,
     "metadata": {},
     "output_type": "execute_result"
    }
   ],
   "source": [
    "_analysis.cohend(answerbot_recall_base, syn_bert_recall_base)"
   ]
  },
  {
   "cell_type": "code",
   "execution_count": 12,
   "id": "ba3cf5d0",
   "metadata": {},
   "outputs": [],
   "source": [
    "#### AnswerBot & word2vec"
   ]
  },
  {
   "cell_type": "code",
   "execution_count": 13,
   "id": "8a86b2dc",
   "metadata": {},
   "outputs": [
    {
     "data": {
      "text/plain": [
       "MannwhitneyuResult(statistic=69.0, pvalue=0.16197241048012612)"
      ]
     },
     "execution_count": 13,
     "metadata": {},
     "output_type": "execute_result"
    }
   ],
   "source": [
    "scipy.stats.mannwhitneyu(answerbot_recall_base, w2v_recall_fe, alternative='two-sided')"
   ]
  },
  {
   "cell_type": "code",
   "execution_count": 14,
   "id": "2fbf2ed9",
   "metadata": {},
   "outputs": [
    {
     "data": {
      "text/plain": [
       "0.7248316252905125"
      ]
     },
     "execution_count": 14,
     "metadata": {},
     "output_type": "execute_result"
    }
   ],
   "source": [
    "_analysis.cohend(answerbot_recall_base, w2v_recall_fe)"
   ]
  },
  {
   "cell_type": "markdown",
   "id": "456851fc",
   "metadata": {},
   "source": [
    "### Effect size comparison - without meta-data"
   ]
  },
  {
   "cell_type": "code",
   "execution_count": 15,
   "id": "cf0cd008",
   "metadata": {},
   "outputs": [],
   "source": [
    "#### AnswerBot & BERT_android"
   ]
  },
  {
   "cell_type": "code",
   "execution_count": 16,
   "id": "89260b28",
   "metadata": {},
   "outputs": [
    {
     "data": {
      "text/plain": [
       "MannwhitneyuResult(statistic=9.0, pvalue=0.0022022199424970783)"
      ]
     },
     "execution_count": 16,
     "metadata": {},
     "output_type": "execute_result"
    }
   ],
   "source": [
    "scipy.stats.mannwhitneyu(answerbot_recall_text, bert_recall_fa, alternative='two-sided')"
   ]
  },
  {
   "cell_type": "code",
   "execution_count": 17,
   "id": "5f3b7e88",
   "metadata": {},
   "outputs": [
    {
     "data": {
      "text/plain": [
       "-1.7054538144862432"
      ]
     },
     "execution_count": 17,
     "metadata": {},
     "output_type": "execute_result"
    }
   ],
   "source": [
    "_analysis.cohend(answerbot_recall_text, bert_recall_fa)"
   ]
  },
  {
   "cell_type": "code",
   "execution_count": 18,
   "id": "20efea58",
   "metadata": {},
   "outputs": [],
   "source": [
    "#### AnswerBot & BERT_synthetic"
   ]
  },
  {
   "cell_type": "code",
   "execution_count": 19,
   "id": "cc63a9e5",
   "metadata": {},
   "outputs": [
    {
     "data": {
      "text/plain": [
       "MannwhitneyuResult(statistic=14.0, pvalue=0.00728455700947966)"
      ]
     },
     "execution_count": 19,
     "metadata": {},
     "output_type": "execute_result"
    }
   ],
   "source": [
    "scipy.stats.mannwhitneyu(answerbot_recall_text, syn_bert_recall_base, alternative='two-sided')"
   ]
  },
  {
   "cell_type": "code",
   "execution_count": 20,
   "id": "838b02c1",
   "metadata": {},
   "outputs": [
    {
     "data": {
      "text/plain": [
       "-1.6886687246851708"
      ]
     },
     "execution_count": 20,
     "metadata": {},
     "output_type": "execute_result"
    }
   ],
   "source": [
    "_analysis.cohend(answerbot_recall_text, syn_bert_recall_base)"
   ]
  },
  {
   "cell_type": "code",
   "execution_count": 21,
   "id": "adf71b0d",
   "metadata": {},
   "outputs": [],
   "source": [
    "#### AnswerBot & word2vec"
   ]
  },
  {
   "cell_type": "code",
   "execution_count": 22,
   "id": "23b1a603",
   "metadata": {},
   "outputs": [
    {
     "data": {
      "text/plain": [
       "MannwhitneyuResult(statistic=53.0, pvalue=0.8501067391385259)"
      ]
     },
     "execution_count": 22,
     "metadata": {},
     "output_type": "execute_result"
    }
   ],
   "source": [
    "scipy.stats.mannwhitneyu(answerbot_recall_text, w2v_recall_fe, alternative='two-sided')"
   ]
  },
  {
   "cell_type": "code",
   "execution_count": 23,
   "id": "2aaf3e08",
   "metadata": {},
   "outputs": [
    {
     "data": {
      "text/plain": [
       "0.05066666084743783"
      ]
     },
     "execution_count": 23,
     "metadata": {},
     "output_type": "execute_result"
    }
   ],
   "source": [
    "_analysis.cohend(answerbot_recall_text, w2v_recall_fe)"
   ]
  },
  {
   "cell_type": "code",
   "execution_count": null,
   "id": "5a3c45bd",
   "metadata": {},
   "outputs": [],
   "source": []
  }
 ],
 "metadata": {
  "kernelspec": {
   "display_name": "Python 3.7 Arthur hugging",
   "language": "python",
   "name": "msarthur-hface"
  },
  "language_info": {
   "codemirror_mode": {
    "name": "ipython",
    "version": 3
   },
   "file_extension": ".py",
   "mimetype": "text/x-python",
   "name": "python",
   "nbconvert_exporter": "python",
   "pygments_lexer": "ipython3",
   "version": "3.7.9"
  }
 },
 "nbformat": 4,
 "nbformat_minor": 5
}
